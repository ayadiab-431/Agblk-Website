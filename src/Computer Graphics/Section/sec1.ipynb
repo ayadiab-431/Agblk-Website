{
 "cells": [
  {
   "cell_type": "code",
   "execution_count": 24,
   "metadata": {},
   "outputs": [
    {
     "name": "stdout",
     "output_type": "stream",
     "text": [
      "Requirement already satisfied: pip in c:\\users\\sahar\\appdata\\local\\programs\\python\\python313\\lib\\site-packages (25.0.1)\n"
     ]
    }
   ],
   "source": [
    "!python -m pip install --upgrade pip"
   ]
  },
  {
   "cell_type": "code",
   "execution_count": 25,
   "metadata": {},
   "outputs": [
    {
     "name": "stdout",
     "output_type": "stream",
     "text": [
      "Requirement already satisfied: graphics.py in c:\\users\\sahar\\appdata\\local\\programs\\python\\python313\\lib\\site-packages (5.0.1.post1)\n",
      "Note: you may need to restart the kernel to use updated packages.\n"
     ]
    }
   ],
   "source": [
    "pip install graphics.py"
   ]
  },
  {
   "cell_type": "markdown",
   "metadata": {},
   "source": [
    "# Graphics Library"
   ]
  },
  {
   "cell_type": "markdown",
   "metadata": {},
   "source": [
    "## 1.GraphWin              "
   ]
  },
  {
   "cell_type": "markdown",
   "metadata": {},
   "source": [
    "#### 👾GraphWin (title, width, height):  class that implement a window where you can draw in, provide some graphical objects as Point, Line, Circle, Oval, Rectangle, Polygon, Text, Entry, Image\n"
   ]
  },
  {
   "cell_type": "code",
   "execution_count": null,
   "metadata": {},
   "outputs": [],
   "source": [
    "from graphics import *\n",
    "\n",
    "win = GraphWin(\"My Window\", 200, 200)\n",
    "\n",
    "win.getMouse()       # or     win.checkMouse()\n",
    "win.close()\n",
    "\n",
    "\n",
    "# or \n",
    "\n",
    "from graphics import *\n",
    "\n",
    "def main():\n",
    "    win = GraphWin(\"My Window\", 200, 200)   \n",
    "    win.getMouse()        \n",
    "    win.close()    \n",
    "\n",
    "main() \n",
    "   \n",
    "\n"
   ]
  },
  {
   "cell_type": "markdown",
   "metadata": {},
   "source": [
    "#### 👾setBackground(Color) to change the background color of the window"
   ]
  },
  {
   "cell_type": "code",
   "execution_count": null,
   "metadata": {},
   "outputs": [],
   "source": [
    "from graphics import *\n",
    "\n",
    "def main():\n",
    "    win = GraphWin(\"My Window\", 500, 500) \n",
    "    win.setBackground(\"yellow\")\n",
    "    \n",
    "    \n",
    "    win.getMouse()    \n",
    "    win.close()    \n",
    "\n",
    "main() "
   ]
  },
  {
   "cell_type": "markdown",
   "metadata": {},
   "source": [
    "##  2.Graphic objects "
   ]
  },
  {
   "cell_type": "markdown",
   "metadata": {},
   "source": [
    "#### provided to draw in GraphWin as color, width, animation effects as:point – line – circle – oval – rectangle – polygon – text."
   ]
  },
  {
   "cell_type": "markdown",
   "metadata": {},
   "source": [
    "### Point Methods"
   ]
  },
  {
   "cell_type": "markdown",
   "metadata": {},
   "source": [
    "#### 👾plot(x , y , color) or Point(x , y) to draw a point"
   ]
  },
  {
   "cell_type": "code",
   "execution_count": null,
   "metadata": {},
   "outputs": [],
   "source": [
    "from graphics import *\n",
    "\n",
    "def main():\n",
    "    \n",
    "    win = GraphWin(\"My Window\", 500, 500) \n",
    "    win.plot(45 , 130 , \"red\")\n",
    "    \n",
    "    \n",
    "    win.getMouse()    \n",
    "    win.close()    \n",
    "\n",
    "main() "
   ]
  },
  {
   "cell_type": "code",
   "execution_count": null,
   "metadata": {},
   "outputs": [],
   "source": [
    "from graphics import *\n",
    "\n",
    "def main():\n",
    "    \n",
    "    win = GraphWin(\"My Window\", 500, 500) \n",
    "    pt=Point(45 , 130)\n",
    "    pt.draw(win)\n",
    "    \n",
    "    \n",
    "    win.getMouse()    \n",
    "    win.close()    \n",
    "\n",
    "main() "
   ]
  },
  {
   "cell_type": "markdown",
   "metadata": {},
   "source": [
    "#### 👾setOutLine(color) to change the color of the point"
   ]
  },
  {
   "cell_type": "code",
   "execution_count": null,
   "metadata": {},
   "outputs": [],
   "source": [
    "from graphics import *\n",
    "\n",
    "def main():\n",
    "    \n",
    "    win = GraphWin(\"My Window\", 500, 500) \n",
    "    pt=Point(45 , 130)\n",
    "    pt.setOutline(\"red\")\n",
    "    pt.draw(win)\n",
    "    \n",
    "    \n",
    "    win.getMouse()    \n",
    "    win.close()    \n",
    "\n",
    "main() "
   ]
  },
  {
   "cell_type": "markdown",
   "metadata": {},
   "source": [
    "### Line Methods"
   ]
  },
  {
   "cell_type": "markdown",
   "metadata": {},
   "source": [
    "#### 👾Line(point1, point2) : Constructs a line segment from point1 to point2.\n"
   ]
  },
  {
   "cell_type": "code",
   "execution_count": null,
   "metadata": {},
   "outputs": [],
   "source": [
    "from graphics import *\n",
    "\n",
    "def main():\n",
    "    \n",
    "    win = GraphWin(\"My Window\", 500, 500) \n",
    "    pt1=Point(10,10)\n",
    "    pt2=Point(90,90)\n",
    "    \n",
    "    line = Line(pt1,pt2)     #line = Line(Point(10,10),Point(90,90))           \n",
    "    \n",
    "    \n",
    "    line.setOutline(\"red\")\n",
    "    line.draw(win)\n",
    "    \n",
    "    \n",
    "    win.getMouse()    \n",
    "    win.close()    \n",
    "\n",
    "main() "
   ]
  },
  {
   "cell_type": "markdown",
   "metadata": {},
   "source": [
    "#### 👾setWidth(pixels) : Sets the width of the outline of the object to the desired number of pixels.  (Does not work for Point.)\n"
   ]
  },
  {
   "cell_type": "code",
   "execution_count": null,
   "metadata": {},
   "outputs": [],
   "source": [
    "from graphics import *\n",
    "\n",
    "def main():\n",
    "    \n",
    "    win = GraphWin(\"My Window\", 500, 500) \n",
    "    \n",
    "    \n",
    "    line = Line(Point(10,10),Point(90,90))           \n",
    "    line.setWidth(5)\n",
    "    \n",
    "    line.setOutline(\"red\")\n",
    "    line.draw(win)\n",
    "    \n",
    "    \n",
    "    win.getMouse()    \n",
    "    win.close()    \n",
    "\n",
    "main() "
   ]
  },
  {
   "cell_type": "markdown",
   "metadata": {},
   "source": [
    "#### 👾setArrow(endString) : Sets the arrowhead status of a line. Arrows may be drawn at either the point, the last point, or both. Possible values of endString are \"first\", \"last\", \"both\",and \"none\". The default setting is \"none\".\n"
   ]
  },
  {
   "cell_type": "code",
   "execution_count": null,
   "metadata": {},
   "outputs": [],
   "source": [
    "from graphics import *\n",
    "\n",
    "def main():\n",
    "    \n",
    "    win = GraphWin(\"My Window\", 500, 500) \n",
    "    \n",
    "    \n",
    "    line = Line(Point(10,10),Point(90,90))           \n",
    "    line.setArrow(\"both\")\n",
    "    \n",
    "    line.setOutline(\"red\")\n",
    "    line.draw(win)\n",
    "    \n",
    "    \n",
    "    win.getMouse()    \n",
    "    win.close()    \n",
    "\n",
    "main() "
   ]
  },
  {
   "cell_type": "markdown",
   "metadata": {},
   "source": [
    "### Rectangle Methods"
   ]
  },
  {
   "cell_type": "markdown",
   "metadata": {},
   "source": [
    "#### 👾Rectangle(point1 , point2): to draw a rectangle"
   ]
  },
  {
   "cell_type": "code",
   "execution_count": null,
   "metadata": {},
   "outputs": [],
   "source": [
    "from graphics import *\n",
    "\n",
    "def main():\n",
    "    \n",
    "    win = GraphWin(\"My Window\", 500, 500) \n",
    "    \n",
    "    \n",
    "    reg = Rectangle(Point(10,30), Point(40,70))           \n",
    "    \n",
    "    \n",
    "    reg.setOutline(\"red\")\n",
    "    reg.draw(win)\n",
    "    \n",
    "    \n",
    "    win.getMouse()    \n",
    "    win.close()    \n",
    "\n",
    "main() "
   ]
  },
  {
   "cell_type": "markdown",
   "metadata": {},
   "source": [
    "#### 👾setFill (color) : Sets the interior of the object to the given color.\n"
   ]
  },
  {
   "cell_type": "code",
   "execution_count": null,
   "metadata": {},
   "outputs": [],
   "source": [
    "from graphics import *\n",
    "\n",
    "def main():\n",
    "    \n",
    "    win = GraphWin(\"My Window\", 500, 500) \n",
    "    \n",
    "    \n",
    "    reg = Rectangle(Point(10,30), Point(40,70)) \n",
    "    reg.setFill(\"red\")          \n",
    "    reg.setOutline(\"black\")\n",
    "    reg.draw(win)\n",
    "    \n",
    "    \n",
    "    win.getMouse()    \n",
    "    win.close()    \n",
    "\n",
    "main() "
   ]
  },
  {
   "cell_type": "markdown",
   "metadata": {},
   "source": [
    "#### 👾getCenter( ) : Returns a clone of the center point of the rectangle.\n"
   ]
  },
  {
   "cell_type": "code",
   "execution_count": null,
   "metadata": {},
   "outputs": [],
   "source": [
    "from graphics import *\n",
    "\n",
    "def main():\n",
    "    win = GraphWin(\"My Window\", 500, 500) \n",
    "\n",
    "    reg = Rectangle(Point(10, 30), Point(40, 70)) \n",
    "    reg.setFill(\"red\")          \n",
    "    reg.setOutline(\"black\")\n",
    "    reg.draw(win)\n",
    "\n",
    "    center = reg.getCenter() \n",
    "    print(center) \n",
    "    \n",
    "    win.getMouse()    \n",
    "    win.close()    \n",
    "\n",
    "main()\n"
   ]
  },
  {
   "cell_type": "markdown",
   "metadata": {},
   "source": [
    "### Polygon Methods"
   ]
  },
  {
   "cell_type": "markdown",
   "metadata": {},
   "source": [
    "#### 👾Polygon(point1, point2, point3, ...) : Constructs a polygon with the given points as vertices. Also accepts a single parameter that is a list of the vertices.\n",
    "\n"
   ]
  },
  {
   "cell_type": "code",
   "execution_count": null,
   "metadata": {},
   "outputs": [],
   "source": [
    "from graphics import *\n",
    "\n",
    "def main():\n",
    "    win = GraphWin(\"My Window\", 500, 500)  \n",
    "\n",
    "    pol = Polygon(Point(100, 200), Point(200, 100), Point(300, 200), Point(250, 300))\n",
    "    # or     pol = Polygon([Point(100, 200), Point(200, 100), Point(300, 200), Point(250, 300)])\n",
    "\n",
    "    pol.setFill(\"red\")          \n",
    "    pol.setOutline(\"black\")\n",
    "    pol.setWidth(3)\n",
    "    pol.draw(win)\n",
    "\n",
    "    win.getMouse()    \n",
    "    win.close()    \n",
    "\n",
    "main()\n"
   ]
  },
  {
   "cell_type": "markdown",
   "metadata": {},
   "source": [
    "### Text Methods"
   ]
  },
  {
   "cell_type": "markdown",
   "metadata": {},
   "source": [
    "#### 👾Text (anchorPoint, textString) : Constructs a text object that displays textString centered at anchorPoint. The text is displayed horizontally.\n",
    "\n",
    "\n"
   ]
  },
  {
   "cell_type": "code",
   "execution_count": null,
   "metadata": {},
   "outputs": [],
   "source": [
    "from graphics import *\n",
    "\n",
    "def main():\n",
    "    win = GraphWin(\"My Window\", 500, 500)  \n",
    "\n",
    "    text=Text(Point(100,100),\"Hello World\")\n",
    "    text.draw(win)\n",
    "\n",
    "    win.getMouse()    \n",
    "    win.close()    \n",
    "\n",
    "main()\n"
   ]
  },
  {
   "cell_type": "markdown",
   "metadata": {},
   "source": [
    "#### 👾getAnchor ( ) : Returns a clone of the anchor point.\n"
   ]
  },
  {
   "cell_type": "code",
   "execution_count": null,
   "metadata": {},
   "outputs": [],
   "source": [
    "from graphics import *\n",
    "\n",
    "def main():\n",
    "    win = GraphWin(\"My Window\", 500, 500)  \n",
    "\n",
    "    text=Text(Point(100,100),\"Hello World\")\n",
    "    centerPoint = text.getAnchor()\n",
    "    text.draw(win)\n",
    "    print(centerPoint)\n",
    "\n",
    "    win.getMouse()    \n",
    "    win.close()    \n",
    "\n",
    "main()"
   ]
  },
  {
   "cell_type": "markdown",
   "metadata": {},
   "source": [
    "#### 👾setFace(family) : Changes the font face to the given family. Possible values are \"helvetica\", courier\", \"times roman\", and \"arial\"."
   ]
  },
  {
   "cell_type": "code",
   "execution_count": null,
   "metadata": {},
   "outputs": [],
   "source": [
    "from graphics import *\n",
    "\n",
    "def main():\n",
    "    win = GraphWin(\"My Window\", 500, 500)  \n",
    "\n",
    "    text=Text(Point(100,100),\"Hello World\")\n",
    "    text.setFace(\"arial\")\n",
    "    text.draw(win)\n",
    "   \n",
    "\n",
    "    win.getMouse()    \n",
    "    win.close()    \n",
    "\n",
    "main()"
   ]
  },
  {
   "cell_type": "markdown",
   "metadata": {},
   "source": [
    "#### 👾setSize(point) : Changes the font size to the given point size. Sizes from 5 to 36 points are legal.\n"
   ]
  },
  {
   "cell_type": "code",
   "execution_count": null,
   "metadata": {},
   "outputs": [],
   "source": [
    "from graphics import *\n",
    "\n",
    "def main():\n",
    "    win = GraphWin(\"My Window\", 500, 500)  \n",
    "\n",
    "    text=Text(Point(100,100),\"Hello World\")\n",
    "    text.setSize(19)\n",
    "    text.draw(win)\n",
    "   \n",
    "\n",
    "    win.getMouse()    \n",
    "    win.close()    \n",
    "\n",
    "main()"
   ]
  },
  {
   "cell_type": "markdown",
   "metadata": {},
   "source": [
    "#### 👾setStyle(style) : Changes font to the given style. Possible values are: \"normal\", \"bold\", \"italic\", and \"bold italic\".\n"
   ]
  },
  {
   "cell_type": "code",
   "execution_count": null,
   "metadata": {},
   "outputs": [],
   "source": [
    "from graphics import *\n",
    "\n",
    "def main():\n",
    "    win = GraphWin(\"My Window\", 500, 500)  \n",
    "\n",
    "    text=Text(Point(100,100),\"Hello World\")\n",
    "    text.setStyle(\"italic\")\n",
    "    text.draw(win)\n",
    "   \n",
    "\n",
    "    win.getMouse()    \n",
    "    win.close()    \n",
    "\n",
    "main()"
   ]
  },
  {
   "cell_type": "markdown",
   "metadata": {},
   "source": [
    "#### 👾setTextColor(color) : Sets the color of the text to color. Note: setFill has the same effect.\n"
   ]
  },
  {
   "cell_type": "code",
   "execution_count": null,
   "metadata": {},
   "outputs": [],
   "source": [
    "from graphics import *\n",
    "\n",
    "def main():\n",
    "    win = GraphWin(\"My Window\", 500, 500)  \n",
    "\n",
    "    text=Text(Point(100,100),\"Hello World\")\n",
    "    text.setTextColor(\"green\")\n",
    "    text.draw(win)\n",
    "   \n",
    "\n",
    "    win.getMouse()    \n",
    "    win.close()    \n",
    "\n",
    "main()"
   ]
  },
  {
   "cell_type": "markdown",
   "metadata": {},
   "source": [
    "### Entry Methods"
   ]
  },
  {
   "cell_type": "markdown",
   "metadata": {},
   "source": [
    "#### 👾Entry(centerPoint, width) : Constructs an Entry having the given center point and width. Thewidth is specified in number of characters of text that can be displayed.\n"
   ]
  },
  {
   "cell_type": "code",
   "execution_count": null,
   "metadata": {},
   "outputs": [],
   "source": [
    "from graphics import *\n",
    "\n",
    "win = GraphWin(\"My Window\", 500, 500)  \n",
    "\n",
    "text_Entry = Entry(Point(250, 250), 20)        \n",
    "text_Entry.draw(win)\n",
    "\n",
    "win.getMouse() \n",
    "\n",
    "entry = text_Entry.getText()\n",
    "print(entry)\n",
    "\n",
    "txt = Text(Point(400, 400), entry)\n",
    "txt.draw(win)\n",
    "\n",
    "win.getMouse()  \n",
    "win.close()\n"
   ]
  }
 ],
 "metadata": {
  "kernelspec": {
   "display_name": "Python 3",
   "language": "python",
   "name": "python3"
  },
  "language_info": {
   "codemirror_mode": {
    "name": "ipython",
    "version": 3
   },
   "file_extension": ".py",
   "mimetype": "text/x-python",
   "name": "python",
   "nbconvert_exporter": "python",
   "pygments_lexer": "ipython3",
   "version": "3.13.0"
  }
 },
 "nbformat": 4,
 "nbformat_minor": 2
}
